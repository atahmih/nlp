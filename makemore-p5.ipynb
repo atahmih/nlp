{
 "cells": [
  {
   "cell_type": "markdown",
   "id": "b8a29030",
   "metadata": {},
   "source": [
    "# Building a WaveNet"
   ]
  },
  {
   "cell_type": "markdown",
   "id": "fbfd150a",
   "metadata": {},
   "source": [
    "Continues from Part 3"
   ]
  },
  {
   "cell_type": "code",
   "execution_count": 40,
   "id": "77207b6f",
   "metadata": {},
   "outputs": [],
   "source": [
    "import torch\n",
    "import torch.nn.functional as F\n",
    "import matplotlib.pyplot as plt\n",
    "import random"
   ]
  },
  {
   "cell_type": "code",
   "execution_count": 41,
   "id": "8d1ba932",
   "metadata": {},
   "outputs": [],
   "source": [
    "words = open('names.txt', 'r').read().splitlines()"
   ]
  },
  {
   "cell_type": "code",
   "execution_count": 42,
   "id": "5a536e13",
   "metadata": {},
   "outputs": [],
   "source": [
    "chars = sorted(list(set(''.join(words))))\n",
    "stoi = {s:i+1 for i, s in enumerate(chars)}\n",
    "stoi['.'] = 0\n",
    "itos = {i:s for s, i in stoi.items()}\n",
    "vocab_size = len(itos)"
   ]
  },
  {
   "cell_type": "code",
   "execution_count": 43,
   "id": "9063f663",
   "metadata": {},
   "outputs": [],
   "source": [
    "block_size = 3\n",
    "\n",
    "def build_dataset(words):\n",
    "    X, Y = [], []\n",
    "    for w in words:\n",
    "        context = [0] * block_size\n",
    "        for ch in w + '.':\n",
    "            ix = stoi[ch]\n",
    "            X.append(context)\n",
    "            Y.append(ix)\n",
    "            context = context[1:] + [ix]\n",
    "\n",
    "    X = torch.tensor(X)\n",
    "    Y = torch.tensor(Y)\n",
    "    return X, Y\n",
    "\n",
    "random.seed(42)\n",
    "random.shuffle(words)\n",
    "n1 = int(0.8*len(words))\n",
    "n2 = int(0.9*len(words))\n",
    "\n",
    "Xtr, Ytr = build_dataset(words[:n1])\n",
    "Xdev, Ydev = build_dataset(words[n1:n2])\n",
    "Xte, Yte = build_dataset(words[n2:])\n"
   ]
  },
  {
   "cell_type": "code",
   "execution_count": 44,
   "id": "4e8787fd",
   "metadata": {},
   "outputs": [],
   "source": [
    "class Linear:\n",
    "    def __init__(self, fan_in, fan_out, bias=True):\n",
    "        self.weight = torch.randn((fan_in, fan_out)) / fan_in**0.5 # Kaiming init\n",
    "        self.bias = torch.zeros(fan_out) if bias else None\n",
    "\n",
    "    def __call__(self, x):\n",
    "        self.out = x @ self.weight\n",
    "        if self.bias is not None: \n",
    "            self.out += self.bias # Wx + b if there's b\n",
    "        return self.out\n",
    "    \n",
    "    def parameters(self):\n",
    "        return [self.weight] + ([] if self.bias is None else [self.bias])\n",
    "        \n",
    "class BatchNorm1d:  \n",
    "    def __init__(self, dim, eps=1e-5, momentum=0.1):\n",
    "        self.eps = eps # epsilon\n",
    "        self.momentum = momentum\n",
    "        self.training = True # behaviours of certain attributes vary for training and inference\n",
    "        # batchnorm trainable params\n",
    "        self.gamma = torch.ones(dim)\n",
    "        self.beta = torch.zeros(dim)\n",
    "        # buffers for running momentum update\n",
    "        self.running_mean = torch.zeros(dim)\n",
    "        self.running_var = torch.ones(dim)\n",
    "\n",
    "    def __call__(self, x):\n",
    "        # forward pass\n",
    "        if self.training:\n",
    "            xmean = x.mean(0, keepdim=True) # batch mean\n",
    "            xvar = x.var(0, keepdim=True) # batch variance\n",
    "        else: # in inference, we use the accummuldated mean and var of the whole training set\n",
    "            xmean = self.running_mean \n",
    "            xvar = self.running_var\n",
    "        xhat = (x - xmean) / torch.sqrt(xvar + self.eps) # normalize to unit variance\n",
    "        self.out = self.gamma * xhat + self.beta\n",
    "        # update buffers - only updated during training\n",
    "        if self.training:\n",
    "            with torch.no_grad():\n",
    "                self.running_mean = (1 - self.momentum) * self.running_mean + self.momentum * xmean\n",
    "                self.running_var = (1 -self.momentum) * self.running_var + self.momentum * xvar\n",
    "        return self.out\n",
    "        \n",
    "    def parameters(self):\n",
    "        return [self.gamma, self.beta] \n",
    "    \n",
    "class Tanh:\n",
    "    def __call__(self, x):\n",
    "        self.out = torch.tanh(x)\n",
    "        return self.out\n",
    "    def parameters(self):\n",
    "        return []\n",
    "    "
   ]
  },
  {
   "cell_type": "code",
   "execution_count": 45,
   "id": "9d76c0ba",
   "metadata": {},
   "outputs": [
    {
     "data": {
      "text/plain": [
       "<torch._C.Generator at 0x10ee0e010>"
      ]
     },
     "execution_count": 45,
     "metadata": {},
     "output_type": "execute_result"
    }
   ],
   "source": [
    "torch.manual_seed(42)"
   ]
  },
  {
   "cell_type": "code",
   "execution_count": 46,
   "id": "ab121ad1",
   "metadata": {},
   "outputs": [
    {
     "name": "stdout",
     "output_type": "stream",
     "text": [
      "12097\n"
     ]
    }
   ],
   "source": [
    "n_embd = 10\n",
    "n_hidden = 200\n",
    "\n",
    "C = torch.randn((vocab_size, n_embd))\n",
    "layers = [ # ignore the formatting, it's just a list with elements\n",
    "    Linear(n_embd * block_size, n_hidden, bias=False), BatchNorm1d(n_hidden), Tanh(),\n",
    "    Linear(n_hidden, vocab_size),\n",
    "]\n",
    "\n",
    "# we init before training\n",
    "with torch.no_grad():\n",
    "    # make softmax (last layer) less confident\n",
    "    layers[-1].weight *= 0.1\n",
    "\n",
    "\n",
    "parameters = [C] + [p for layer in layers for p in layer.parameters()]\n",
    "print(sum(p.nelement() for p in parameters))\n",
    "for p in parameters:\n",
    "    p.requires_grad = True"
   ]
  },
  {
   "cell_type": "code",
   "execution_count": 47,
   "id": "1613feb8",
   "metadata": {},
   "outputs": [
    {
     "name": "stdout",
     "output_type": "stream",
     "text": [
      "      0/ 200000: 3.2966\n",
      "  10000/ 200000: 2.2322\n",
      "  20000/ 200000: 2.4111\n",
      "  30000/ 200000: 2.1004\n",
      "  40000/ 200000: 2.3157\n",
      "  50000/ 200000: 2.2104\n",
      "  60000/ 200000: 1.9653\n",
      "  70000/ 200000: 1.9767\n",
      "  80000/ 200000: 2.6738\n",
      "  90000/ 200000: 2.0837\n",
      " 100000/ 200000: 2.2730\n",
      " 110000/ 200000: 1.7087\n",
      " 120000/ 200000: 2.3243\n",
      " 130000/ 200000: 2.2512\n",
      " 140000/ 200000: 2.0113\n",
      " 150000/ 200000: 1.8195\n",
      " 160000/ 200000: 1.7985\n",
      " 170000/ 200000: 2.2206\n",
      " 180000/ 200000: 2.0566\n",
      " 190000/ 200000: 2.1030\n"
     ]
    }
   ],
   "source": [
    "max_steps = 200000\n",
    "batch_size = 32\n",
    "lossi = []\n",
    "\n",
    "for i in range(max_steps):\n",
    "    # Construct the minibatch\n",
    "    ix = torch.randint(0, Xtr.shape[0], (batch_size,))\n",
    "    Xb, Yb = Xtr[ix], Ytr[ix]\n",
    "\n",
    "    # forward pass\n",
    "    emb = C[Xb] # embed chars into a vector\n",
    "    x = emb.view(emb.shape[0], -1) # concat the vectors\n",
    "    # new forward pass for layers\n",
    "    for layer in layers:\n",
    "        x = layer(x)\n",
    "    loss = F.cross_entropy(x, Yb)\n",
    "\n",
    "    # backward pass\n",
    "    for layer in layers:\n",
    "        layer.out.retain_grad() # for debugging. retains the graphs\n",
    "    for p in parameters:\n",
    "        p.grad = None\n",
    "    loss.backward()\n",
    "\n",
    "    # update\n",
    "    lr = 0.1 if i < 100000 else 0.01\n",
    "    for p in parameters:\n",
    "        p.data += -lr * p.grad\n",
    "\n",
    "    # track stats\n",
    "    if i % 10000 == 0:\n",
    "        print(f'{i:7d}/{max_steps:7d}: {loss.item():.4f}')\n",
    "    lossi.append(loss.log10().item())"
   ]
  },
  {
   "cell_type": "code",
   "execution_count": 48,
   "id": "75f779a3",
   "metadata": {},
   "outputs": [
    {
     "data": {
      "text/plain": [
       "[<matplotlib.lines.Line2D at 0x11cae7890>]"
      ]
     },
     "execution_count": 48,
     "metadata": {},
     "output_type": "execute_result"
    },
    {
     "data": {
      "image/png": "[encoded data removed]",
      "text/plain": [
       "<Figure size 640x480 with 1 Axes>"
      ]
     },
     "metadata": {},
     "output_type": "display_data"
    }
   ],
   "source": [
    "plt.plot(lossi)"
   ]
  },
  {
   "cell_type": "code",
   "execution_count": 49,
   "id": "823576af",
   "metadata": {},
   "outputs": [],
   "source": [
    "# put layers in eval mode\n",
    "for layer in layers:\n",
    "    layer.training = False"
   ]
  },
  {
   "cell_type": "code",
   "execution_count": 50,
   "id": "7ac2bad8",
   "metadata": {},
   "outputs": [
    {
     "name": "stdout",
     "output_type": "stream",
     "text": [
      "train 2.0621414184570312\n",
      "val 2.109346389770508\n"
     ]
    }
   ],
   "source": [
    "# evalyate the loss\n",
    "@torch.no_grad() # disable gradient tracking automatically setting requires_grad to false\n",
    "def split_loss(split):\n",
    "    x,y = {\n",
    "        'train': (Xtr, Ytr), \n",
    "        'val': (Xdev, Ydev),\n",
    "        'test': (Xte, Yte),\n",
    "    }[split]\n",
    "    emb = C[x] \n",
    "    x = emb.view(emb.shape[0], -1)\n",
    "    for layer in layers:\n",
    "        x = layer(x)\n",
    "    loss = F.cross_entropy(x, y)\n",
    "    print(split, loss.item())\n",
    "split_loss('train')\n",
    "split_loss('val')"
   ]
  },
  {
   "cell_type": "code",
   "execution_count": 51,
   "id": "f93b34aa",
   "metadata": {},
   "outputs": [
    {
     "name": "stdout",
     "output_type": "stream",
     "text": [
      "ivon.\n",
      "fanili.\n",
      "thoommasamiel.\n",
      "emmadery.\n",
      "andr.\n",
      "aleigh.\n",
      "kelynnie.\n",
      "jazul.\n",
      "carleen.\n",
      "jah.\n",
      "jorra.\n",
      "alaya.\n",
      "shonan.\n",
      "vishylaharia.\n",
      "juna.\n",
      "vio.\n",
      "orven.\n",
      "meriell.\n",
      "laiye.\n",
      "zefina.\n"
     ]
    }
   ],
   "source": [
    "for _ in range(20):\n",
    "    out = []\n",
    "    context = [0] * block_size\n",
    "    while True:\n",
    "        # forward pass the neural net\n",
    "        emb = C[torch.tensor([context])]\n",
    "        x = emb.view(emb.shape[0], -1)\n",
    "        for layer in layers:\n",
    "            x = layer(x)\n",
    "        logits = x\n",
    "        probs = F.softmax(logits, dim=1)\n",
    "        # sample from distribution\n",
    "        ix = torch.multinomial(probs, num_samples=1).item()\n",
    "        # shift the context window and track the samples\n",
    "        context = context[1:] + [ix]\n",
    "        out.append(ix)\n",
    "\n",
    "        if ix == 0:\n",
    "            break\n",
    "    print(''.join(itos[i] for i in out))"
   ]
  },
  {
   "cell_type": "markdown",
   "id": "8864c1f0",
   "metadata": {},
   "source": [
    "Making the loss look nicer. We need to average up some of the loss values to get a more representative value along the way <br>\n",
    "We form a tensor of 1000 cols "
   ]
  },
  {
   "cell_type": "code",
   "execution_count": 52,
   "id": "3a3dcc7c",
   "metadata": {},
   "outputs": [
    {
     "data": {
      "text/plain": [
       "torch.Size([200, 1000])"
      ]
     },
     "execution_count": 52,
     "metadata": {},
     "output_type": "execute_result"
    }
   ],
   "source": [
    "torch.tensor(lossi).view(-1, 1000).shape"
   ]
  },
  {
   "cell_type": "markdown",
   "id": "59194125",
   "metadata": {},
   "source": [
    "and we can get the mean"
   ]
  },
  {
   "cell_type": "code",
   "execution_count": 53,
   "id": "5107dcbf",
   "metadata": {},
   "outputs": [
    {
     "data": {
      "text/plain": [
       "tensor([0.4059, 0.3791, 0.3698, 0.3681, 0.3657, 0.3639, 0.3624, 0.3593, 0.3557,\n",
       "        0.3561, 0.3516, 0.3515, 0.3504, 0.3501, 0.3491, 0.3477, 0.3498, 0.3474,\n",
       "        0.3494, 0.3449, 0.3456, 0.3440, 0.3452, 0.3461, 0.3429, 0.3456, 0.3458,\n",
       "        0.3438, 0.3408, 0.3437, 0.3435, 0.3407, 0.3424, 0.3412, 0.3415, 0.3404,\n",
       "        0.3419, 0.3391, 0.3414, 0.3396, 0.3392, 0.3408, 0.3394, 0.3416, 0.3389,\n",
       "        0.3390, 0.3376, 0.3407, 0.3364, 0.3376, 0.3393, 0.3362, 0.3371, 0.3349,\n",
       "        0.3393, 0.3369, 0.3363, 0.3349, 0.3338, 0.3386, 0.3366, 0.3388, 0.3370,\n",
       "        0.3379, 0.3349, 0.3378, 0.3325, 0.3358, 0.3353, 0.3390, 0.3369, 0.3366,\n",
       "        0.3354, 0.3350, 0.3375, 0.3347, 0.3352, 0.3352, 0.3318, 0.3359, 0.3348,\n",
       "        0.3338, 0.3350, 0.3367, 0.3331, 0.3333, 0.3346, 0.3356, 0.3339, 0.3339,\n",
       "        0.3332, 0.3331, 0.3352, 0.3356, 0.3350, 0.3335, 0.3330, 0.3299, 0.3344,\n",
       "        0.3350, 0.3232, 0.3178, 0.3209, 0.3222, 0.3227, 0.3220, 0.3193, 0.3218,\n",
       "        0.3200, 0.3176, 0.3221, 0.3187, 0.3183, 0.3217, 0.3214, 0.3175, 0.3196,\n",
       "        0.3217, 0.3179, 0.3190, 0.3207, 0.3193, 0.3215, 0.3197, 0.3204, 0.3193,\n",
       "        0.3192, 0.3203, 0.3195, 0.3186, 0.3195, 0.3213, 0.3180, 0.3202, 0.3182,\n",
       "        0.3195, 0.3207, 0.3195, 0.3181, 0.3221, 0.3171, 0.3202, 0.3180, 0.3187,\n",
       "        0.3194, 0.3180, 0.3173, 0.3199, 0.3166, 0.3186, 0.3166, 0.3193, 0.3193,\n",
       "        0.3229, 0.3184, 0.3177, 0.3181, 0.3172, 0.3181, 0.3178, 0.3203, 0.3201,\n",
       "        0.3200, 0.3199, 0.3191, 0.3171, 0.3194, 0.3182, 0.3175, 0.3177, 0.3179,\n",
       "        0.3196, 0.3181, 0.3180, 0.3181, 0.3205, 0.3189, 0.3174, 0.3194, 0.3224,\n",
       "        0.3173, 0.3195, 0.3149, 0.3173, 0.3192, 0.3197, 0.3188, 0.3170, 0.3190,\n",
       "        0.3185, 0.3179, 0.3193, 0.3203, 0.3190, 0.3167, 0.3164, 0.3173, 0.3176,\n",
       "        0.3195, 0.3188])"
      ]
     },
     "execution_count": 53,
     "metadata": {},
     "output_type": "execute_result"
    }
   ],
   "source": [
    "torch.tensor(lossi).view(-1, 1000).mean(1)"
   ]
  },
  {
   "cell_type": "code",
   "execution_count": 54,
   "id": "b68d4b18",
   "metadata": {},
   "outputs": [
    {
     "data": {
      "text/plain": [
       "[<matplotlib.lines.Line2D at 0x14f9e65d0>]"
      ]
     },
     "execution_count": 54,
     "metadata": {},
     "output_type": "execute_result"
    },
    {
     "data": {
      "image/png": "[encoded data removed]",
      "text/plain": [
       "<Figure size 640x480 with 1 Axes>"
      ]
     },
     "metadata": {},
     "output_type": "display_data"
    }
   ],
   "source": [
    "plt.plot(torch.tensor(lossi).view(-1, 1000).mean(1))"
   ]
  },
  {
   "cell_type": "markdown",
   "id": "07c7cdff",
   "metadata": {},
   "source": [
    "# Cleaning up the Layers code <br>\n",
    "Embedding does the indexing while Flatten does the flatten operation"
   ]
  },
  {
   "cell_type": "code",
   "execution_count": 55,
   "id": "4ad573d7",
   "metadata": {},
   "outputs": [],
   "source": [
    "# to be added close to the other classes\n",
    "class Embedding:\n",
    "    def __init__(self, num_embeddings, embedding_dim):\n",
    "        self.weight = torch.randn((num_embeddings, embedding_dim))\n",
    "    def __call__(self, IX):\n",
    "        self.out = self.weight[IX]\n",
    "        return self.out\n",
    "    def parameters(self):\n",
    "        return [self.weight]\n",
    "    \n",
    "class Flatten:\n",
    "    def __call__(self, x):\n",
    "        self.out = x.view(x.shape[0], -1)\n",
    "        return self.out\n",
    "    def parameters(self):\n",
    "        return []"
   ]
  },
  {
   "cell_type": "code",
   "execution_count": 56,
   "id": "6957db1f",
   "metadata": {},
   "outputs": [
    {
     "name": "stdout",
     "output_type": "stream",
     "text": [
      "12097\n"
     ]
    }
   ],
   "source": [
    "n_embd = 10\n",
    "n_hidden = 200\n",
    "\n",
    "layers = [\n",
    "    Embedding(vocab_size, n_embd),\n",
    "    Flatten(),\n",
    "    Linear(n_embd * block_size, n_hidden, bias=False), BatchNorm1d(n_hidden), Tanh(),\n",
    "    Linear(n_hidden, vocab_size),\n",
    "]\n",
    "\n",
    "with torch.no_grad():\n",
    "    # make softmax (last layer) less confident\n",
    "    layers[-1].weight *= 0.1\n",
    "\n",
    "\n",
    "parameters = [p for layer in layers for p in layer.parameters()]\n",
    "print(sum(p.nelement() for p in parameters))\n",
    "for p in parameters:\n",
    "    p.requires_grad = True"
   ]
  },
  {
   "cell_type": "code",
   "execution_count": 57,
   "id": "7bd15b0a",
   "metadata": {},
   "outputs": [
    {
     "name": "stdout",
     "output_type": "stream",
     "text": [
      "      0/ 200000: 3.2763\n"
     ]
    }
   ],
   "source": [
    "max_steps = 200000\n",
    "batch_size = 32\n",
    "lossi = []\n",
    "\n",
    "for i in range(max_steps):\n",
    "    # Construct the minibatch\n",
    "    ix = torch.randint(0, Xtr.shape[0], (batch_size,))\n",
    "    Xb, Yb = Xtr[ix], Ytr[ix]\n",
    "\n",
    "    # forward pass\n",
    "    # the embedding and flattening have been moved into the layers\n",
    "    x = Xb\n",
    "    for layer in layers:\n",
    "        x = layer(x)\n",
    "    loss = F.cross_entropy(x, Yb)\n",
    "\n",
    "    # backward pass\n",
    "    for layer in layers:\n",
    "        layer.out.retain_grad() # for debugging. retains the graphs\n",
    "    for p in parameters:\n",
    "        p.grad = None\n",
    "    loss.backward()\n",
    "\n",
    "    # update\n",
    "    lr = 0.1 if i < 100000 else 0.01\n",
    "    for p in parameters:\n",
    "        p.data += -lr * p.grad\n",
    "\n",
    "    # track stats\n",
    "    if i % 10000 == 0:\n",
    "        print(f'{i:7d}/{max_steps:7d}: {loss.item():.4f}')\n",
    "    lossi.append(loss.log10().item())\n",
    "\n",
    "    break"
   ]
  },
  {
   "cell_type": "markdown",
   "id": "c41ce48c",
   "metadata": {},
   "source": [
    "# Sequential Layer"
   ]
  },
  {
   "cell_type": "markdown",
   "id": "86908ebc",
   "metadata": {},
   "source": [
    "Our code currently puts our layers into a primitive list. In PyTorch, this is usually done using a Sequential layer. <br>\n",
    "The layer essentially takes a list of layers, and when you get an input in the forward pass, it calls the layers sequentially and returns the result"
   ]
  },
  {
   "cell_type": "code",
   "execution_count": 58,
   "id": "860b8eea",
   "metadata": {},
   "outputs": [],
   "source": [
    "class Sequential:\n",
    "    def __init__(self, layers):\n",
    "        self.layers = layers\n",
    "\n",
    "    def __call__(self, x):\n",
    "        for layer in self.layers:\n",
    "            x = layer(x)\n",
    "        self.out = x\n",
    "        return self.out\n",
    "    def parameters(self):\n",
    "        return [p for layer in self.layers for p in layer.parameters()]"
   ]
  },
  {
   "cell_type": "code",
   "execution_count": 59,
   "id": "40a3d1de",
   "metadata": {},
   "outputs": [
    {
     "name": "stdout",
     "output_type": "stream",
     "text": [
      "12097\n"
     ]
    }
   ],
   "source": [
    "n_embd = 10\n",
    "n_hidden = 200\n",
    "\n",
    "model = Sequential([\n",
    "    Embedding(vocab_size, n_embd),\n",
    "    Flatten(),\n",
    "    Linear(n_embd * block_size, n_hidden, bias=False), BatchNorm1d(n_hidden), Tanh(),\n",
    "    Linear(n_hidden, vocab_size),\n",
    "])\n",
    "\n",
    "with torch.no_grad():\n",
    "    # make softmax (last layer) less confident\n",
    "    layers[-1].weight *= 0.1\n",
    "\n",
    "\n",
    "parameters = model.parameters()\n",
    "print(sum(p.nelement() for p in parameters))\n",
    "for p in parameters:\n",
    "    p.requires_grad = True"
   ]
  },
  {
   "cell_type": "markdown",
   "id": "2f6e3c0b",
   "metadata": {},
   "source": [
    "... and we improve the forward pass code"
   ]
  },
  {
   "cell_type": "code",
   "execution_count": 60,
   "id": "2601b658",
   "metadata": {},
   "outputs": [
    {
     "name": "stdout",
     "output_type": "stream",
     "text": [
      "      0/ 200000: 3.6890\n"
     ]
    }
   ],
   "source": [
    "max_steps = 200000\n",
    "batch_size = 32\n",
    "lossi = []\n",
    "\n",
    "for i in range(max_steps):\n",
    "    # Construct the minibatch\n",
    "    ix = torch.randint(0, Xtr.shape[0], (batch_size,))\n",
    "    Xb, Yb = Xtr[ix], Ytr[ix]\n",
    "\n",
    "    # forward pass\n",
    "    logits = model(Xb)\n",
    "    loss = F.cross_entropy(logits, Yb)\n",
    "\n",
    "    # backward pass\n",
    "    for layer in layers:\n",
    "        layer.out.retain_grad() # for debugging. retains the graphs\n",
    "    for p in parameters:\n",
    "        p.grad = None\n",
    "    loss.backward()\n",
    "\n",
    "    # update\n",
    "    lr = 0.1 if i < 100000 else 0.01\n",
    "    for p in parameters:\n",
    "        p.data += -lr * p.grad\n",
    "\n",
    "    # track stats\n",
    "    if i % 10000 == 0:\n",
    "        print(f'{i:7d}/{max_steps:7d}: {loss.item():.4f}')\n",
    "    lossi.append(loss.log10().item())\n",
    "\n",
    "    break"
   ]
  },
  {
   "cell_type": "markdown",
   "id": "66433a0b",
   "metadata": {},
   "source": [
    "and then eval"
   ]
  },
  {
   "cell_type": "code",
   "execution_count": 61,
   "id": "01de7b91",
   "metadata": {},
   "outputs": [],
   "source": [
    "for layer in model.layers:\n",
    "    layer.training = False"
   ]
  },
  {
   "cell_type": "code",
   "execution_count": 62,
   "id": "d3e6a978",
   "metadata": {},
   "outputs": [
    {
     "name": "stdout",
     "output_type": "stream",
     "text": [
      "train 3.5018904209136963\n",
      "val 3.4980947971343994\n"
     ]
    }
   ],
   "source": [
    "# evalyate the loss\n",
    "@torch.no_grad() # disable gradient tracking automatically setting requires_grad to false\n",
    "def split_loss(split):\n",
    "    x,y = {\n",
    "        'train': (Xtr, Ytr), \n",
    "        'val': (Xdev, Ydev),\n",
    "        'test': (Xte, Yte),\n",
    "    }[split]\n",
    "    logits = model(x)\n",
    "    loss = F.cross_entropy(logits, y)\n",
    "    print(split, loss.item())\n",
    "split_loss('train')\n",
    "split_loss('val')"
   ]
  },
  {
   "cell_type": "code",
   "execution_count": 63,
   "id": "5d6411c9",
   "metadata": {},
   "outputs": [
    {
     "name": "stdout",
     "output_type": "stream",
     "text": [
      "avkkijyiaysklwqxfzcxlxbkeurwelzoujsimzfamnhcojnqppsmdsimzkyopadgyxelrnkdgxlalymfqfmjxajp.\n",
      "zakrwegjofqneglosjybclgonkggyaioyuorneoudntmvdpjqlwollxrqhzhlohnpvegiasbvvkzjyov.\n",
      "vybxrxhpd.\n",
      "zklfrmfdoau.\n",
      "qimzwczsvcvmelqozppvvussvcgjpidxylxseuytkp.\n",
      "xtwnhgnkdpbsdhxawtjkhgydaaifkmbnrn.\n",
      "vcuyrlkzdzfmazzvtykajrfwjmedpjomispszozqztvkmpkdsoljpd.\n",
      "ejtsfndjbnkqvvmkxysaasgwzbqnguojryixpjeozacjybtuqdmz.\n",
      "cvlaqgilawsimbelcjkikzdjgjvbmlteztpjdtyofxoroiygcxaeggmhqokpsrpenjww.\n",
      "eczlkrtvfxtefxojaltjioj.\n",
      "wagyixljxqyprggmfjnkwenxarargldenz.\n",
      "apnegugid.\n",
      "fjafwgbuefzwblxtsmymphvpbgstmz.\n",
      "pgwtjlytqcu.\n",
      "yayskfasddcqctrqlxkvamypozplkzhiop.\n",
      "cymaalginnejocypcr.\n",
      "tumgszfdozsplhzjxrndwpcassmcudgtjctjinpgmzbchywarqlmxaxvactmmcrwekzubrnjrndzrfioywlhifqyuelhpuffhcbyxospmdpbjytdoyvgingart.\n",
      "giyopp.\n",
      "dqi.\n",
      "dxeexalnfmtwdzbkbprirdhqdgnos.\n"
     ]
    }
   ],
   "source": [
    "for _ in range(20):\n",
    "    out = []\n",
    "    context = [0] * block_size\n",
    "    while True:\n",
    "        # forward pass the neural net\n",
    "        logits = model(torch.tensor([context]))\n",
    "        probs = F.softmax(logits, dim=1)\n",
    "        # sample from distribution\n",
    "        ix = torch.multinomial(probs, num_samples=1).item()\n",
    "        # shift the context window and track the samples\n",
    "        context = context[1:] + [ix]\n",
    "        out.append(ix)\n",
    "\n",
    "        if ix == 0:\n",
    "            break\n",
    "    print(''.join(itos[i] for i in out))"
   ]
  },
  {
   "cell_type": "markdown",
   "id": "987c8d04",
   "metadata": {},
   "source": [
    "# Designing our WaveNet"
   ]
  },
  {
   "cell_type": "markdown",
   "id": "8ab0cb91",
   "metadata": {},
   "source": [
    "From the MLP we were implementing, there's no naive way of expanding the network's design - ie adding additional layers. The design of the network implies all information is rapidly squashed at the beginning of the network"
   ]
  },
  {
   "cell_type": "markdown",
   "id": "8db14339",
   "metadata": {},
   "source": [
    "We'd like a network that gradually squashes the characters in successive layers. So we are fusing two into one, and then on the next layer, we fuse the previous two into one, and so on"
   ]
  },
  {
   "cell_type": "markdown",
   "id": "0c4e2130",
   "metadata": {},
   "source": [
    " <img src='WaveNet.png'/>"
   ]
  },
  {
   "cell_type": "markdown",
   "id": "f3629f19",
   "metadata": {},
   "source": [
    "Let's start by re-building our dataset. This time, we want to take 8 chars as context to predict the 9th"
   ]
  },
  {
   "cell_type": "code",
   "execution_count": 64,
   "id": "3337ecb1",
   "metadata": {},
   "outputs": [],
   "source": [
    "block_size = 8\n",
    "\n",
    "def build_dataset(words):\n",
    "    X, Y = [], []\n",
    "    for w in words:\n",
    "        context = [0] * block_size\n",
    "        for ch in w + '.':\n",
    "            ix = stoi[ch]\n",
    "            X.append(context)\n",
    "            Y.append(ix)\n",
    "            context = context[1:] + [ix]\n",
    "\n",
    "    X = torch.tensor(X)\n",
    "    Y = torch.tensor(Y)\n",
    "    return X, Y\n",
    "\n",
    "random.seed(42)\n",
    "random.shuffle(words)\n",
    "n1 = int(0.8*len(words))\n",
    "n2 = int(0.9*len(words))\n",
    "\n",
    "Xtr, Ytr = build_dataset(words[:n1])\n",
    "Xdev, Ydev = build_dataset(words[n1:n2])\n",
    "Xte, Yte = build_dataset(words[n2:])\n"
   ]
  },
  {
   "cell_type": "markdown",
   "id": "89300c0d",
   "metadata": {},
   "source": [
    "Our blocksize has grown, so we re-define our model"
   ]
  },
  {
   "cell_type": "code",
   "execution_count": 65,
   "id": "86d30cf4",
   "metadata": {},
   "outputs": [
    {
     "name": "stdout",
     "output_type": "stream",
     "text": [
      "22097\n"
     ]
    }
   ],
   "source": [
    "n_embd = 10\n",
    "n_hidden = 200\n",
    "\n",
    "model = Sequential([\n",
    "    Embedding(vocab_size, n_embd),\n",
    "    Flatten(),\n",
    "    Linear(n_embd * block_size, n_hidden, bias=False), BatchNorm1d(n_hidden), Tanh(),\n",
    "    Linear(n_hidden, vocab_size),\n",
    "])\n",
    "\n",
    "with torch.no_grad():\n",
    "    # make softmax (last layer) less confident\n",
    "    layers[-1].weight *= 0.1\n",
    "\n",
    "\n",
    "parameters = model.parameters()\n",
    "print(sum(p.nelement() for p in parameters))\n",
    "for p in parameters:\n",
    "    p.requires_grad = True"
   ]
  },
  {
   "cell_type": "markdown",
   "id": "5cacb988",
   "metadata": {},
   "source": [
    "# Implementing the Hierachical Scheme"
   ]
  },
  {
   "cell_type": "markdown",
   "id": "33dac115",
   "metadata": {},
   "source": [
    "Let's inspect the shapes of the tensors along the forward pass"
   ]
  },
  {
   "cell_type": "code",
   "execution_count": 66,
   "id": "5a2b49b5",
   "metadata": {},
   "outputs": [
    {
     "name": "stdout",
     "output_type": "stream",
     "text": [
      "torch.Size([4, 8])\n"
     ]
    },
    {
     "data": {
      "text/plain": [
       "tensor([[ 0,  0,  0,  0,  0,  0,  0, 14],\n",
       "        [ 0,  0,  0,  0,  0,  2,  5, 14],\n",
       "        [ 0,  0,  0,  0,  0,  0,  6, 18],\n",
       "        [ 0,  0,  0,  0,  0,  0,  4,  1]])"
      ]
     },
     "execution_count": 66,
     "metadata": {},
     "output_type": "execute_result"
    }
   ],
   "source": [
    "ix = torch.randint(0, Xtr.shape[0], (4,)) # looking at a batch of 4 examples\n",
    "Xb, Yb, = Xtr[ix], Ytr[ix]\n",
    "logits = model(Xb)\n",
    "print(Xb.shape)\n",
    "Xb"
   ]
  },
  {
   "cell_type": "code",
   "execution_count": 67,
   "id": "56e85fbc",
   "metadata": {},
   "outputs": [
    {
     "data": {
      "text/plain": [
       "torch.Size([4, 8, 10])"
      ]
     },
     "execution_count": 67,
     "metadata": {},
     "output_type": "execute_result"
    }
   ],
   "source": [
    "model.layers[0].out.shape"
   ]
  },
  {
   "cell_type": "markdown",
   "id": "40f28262",
   "metadata": {},
   "source": [
    "Our embedding table for each char has a 10D vector that we are trying to learn. The layer plucks out the embedding vector for each char and organizes in the tensor (4, 5, 10)"
   ]
  },
  {
   "cell_type": "code",
   "execution_count": 68,
   "id": "fe248bea",
   "metadata": {},
   "outputs": [
    {
     "data": {
      "text/plain": [
       "torch.Size([4, 80])"
      ]
     },
     "execution_count": 68,
     "metadata": {},
     "output_type": "execute_result"
    }
   ],
   "source": [
    "model.layers[1].out.shape"
   ]
  },
  {
   "cell_type": "markdown",
   "id": "6f61ea9b",
   "metadata": {},
   "source": [
    "Here, we stretch out the 10D vectors for all the 8 chars into a long row (concatenation)"
   ]
  },
  {
   "cell_type": "code",
   "execution_count": 69,
   "id": "7d884403",
   "metadata": {},
   "outputs": [
    {
     "data": {
      "text/plain": [
       "torch.Size([4, 200])"
      ]
     },
     "execution_count": 69,
     "metadata": {},
     "output_type": "execute_result"
    }
   ],
   "source": [
    "model.layers[2].out.shape"
   ]
  },
  {
   "cell_type": "markdown",
   "id": "752d9350",
   "metadata": {},
   "source": [
    "The linear layer takes 80 and creates 200 channels using matrix multiplication. <br> \n",
    "This layer in the forward pass essentially looks like ..."
   ]
  },
  {
   "cell_type": "code",
   "execution_count": 70,
   "id": "9b7a39c4",
   "metadata": {},
   "outputs": [
    {
     "data": {
      "text/plain": [
       "torch.Size([4, 200])"
      ]
     },
     "execution_count": 70,
     "metadata": {},
     "output_type": "execute_result"
    }
   ],
   "source": [
    "(torch.randn(4, 80) @ torch.randn(80, 200) + torch.randn(200)).shape"
   ]
  },
  {
   "cell_type": "markdown",
   "id": "e277cb1a",
   "metadata": {},
   "source": [
    "The @ operation in PyTorch is quite robust. You can pass in higher dimensional arrays and the operator takes care of it. e.g."
   ]
  },
  {
   "cell_type": "code",
   "execution_count": 71,
   "id": "336c8d01",
   "metadata": {},
   "outputs": [
    {
     "data": {
      "text/plain": [
       "torch.Size([4, 5, 200])"
      ]
     },
     "execution_count": 71,
     "metadata": {},
     "output_type": "execute_result"
    }
   ],
   "source": [
    "(torch.randn(4, 5, 80) @ torch.randn(80, 200) + torch.randn(200)).shape"
   ]
  },
  {
   "cell_type": "code",
   "execution_count": 72,
   "id": "a2030c48",
   "metadata": {},
   "outputs": [
    {
     "data": {
      "text/plain": [
       "torch.Size([4, 5, 2, 200])"
      ]
     },
     "execution_count": 72,
     "metadata": {},
     "output_type": "execute_result"
    }
   ],
   "source": [
    "(torch.randn(4, 5, 2, 80) @ torch.randn(80, 200) + torch.randn(200)).shape"
   ]
  },
  {
   "cell_type": "markdown",
   "id": "f0c48b70",
   "metadata": {},
   "source": [
    "This matrix multiplication only works on the last dimension. Those before it are left unchanged (like batch dimensions)"
   ]
  },
  {
   "cell_type": "markdown",
   "id": "229772d7",
   "metadata": {},
   "source": [
    "Now, we have 8 chars coming in. We don't want to flatten all of them into a large 8D vector, because we don't want to multiply into the weight matrix immediately. <br>\n",
    "We rather want to group them into consecutive two elements, and each group can be processed in parallel"
   ]
  },
  {
   "cell_type": "markdown",
   "id": "f6fb9685",
   "metadata": {},
   "source": [
    "Basically, we don't want 80 numbers to be directly fused in the first layer. We want a paired fusion each time. So (4, 80) should be (4, 4, 20), i.e. 4 groups of 2's that are 10 dim vectors"
   ]
  },
  {
   "cell_type": "markdown",
   "id": "a0bc808e",
   "metadata": {},
   "source": [
    "We have to change the linear layer so it does expect 80, but rather expect 20, and change the flatten layer so it outputs a (4,20), where every two consecutive characters are packed in on the last dim. "
   ]
  },
  {
   "cell_type": "markdown",
   "id": "18347237",
   "metadata": {},
   "source": [
    "Let's look at the dummy example below"
   ]
  },
  {
   "cell_type": "code",
   "execution_count": 77,
   "id": "d1a16db8",
   "metadata": {},
   "outputs": [],
   "source": [
    "e = torch.randn(4, 8, 10)"
   ]
  },
  {
   "cell_type": "markdown",
   "id": "c17d3966",
   "metadata": {},
   "source": [
    "Our Flatten currently views on the batch size "
   ]
  },
  {
   "cell_type": "code",
   "execution_count": 78,
   "id": "8686050a",
   "metadata": {},
   "outputs": [
    {
     "data": {
      "text/plain": [
       "torch.Size([4, 80])"
      ]
     },
     "execution_count": 78,
     "metadata": {},
     "output_type": "execute_result"
    }
   ],
   "source": [
    "e.view(4, -1).shape"
   ]
  },
  {
   "cell_type": "markdown",
   "id": "a76e5809",
   "metadata": {},
   "source": [
    "We rather want a (4,4,20), where consecutive 10 dim vectors are concatenated. <br>\n",
    "We can index into for all batch elements (4) and the chars (8)"
   ]
  },
  {
   "cell_type": "code",
   "execution_count": 79,
   "id": "cd3d5100",
   "metadata": {},
   "outputs": [
    {
     "data": {
      "text/plain": [
       "torch.Size([4, 4, 20])"
      ]
     },
     "execution_count": 79,
     "metadata": {},
     "output_type": "execute_result"
    }
   ],
   "source": [
    "# e[:, ::2, :] # even elements\n",
    "# e[:, 1::2, :] # odd elements\n",
    "explicit = torch.cat([e[:, ::2, :], e[:, 1::2, :]], dim=2)\n",
    "explicit.shape"
   ]
  },
  {
   "cell_type": "markdown",
   "id": "e9e2b983",
   "metadata": {},
   "source": [
    "We can alternatively directly use view to request the right shape"
   ]
  },
  {
   "cell_type": "code",
   "execution_count": 82,
   "id": "d8809b0d",
   "metadata": {},
   "outputs": [
    {
     "data": {
      "text/plain": [
       "tensor(True)"
      ]
     },
     "execution_count": 82,
     "metadata": {},
     "output_type": "execute_result"
    }
   ],
   "source": [
    "(e.view(4, 4, 20) == explicit).all()"
   ]
  },
  {
   "cell_type": "markdown",
   "id": "1589b269",
   "metadata": {},
   "source": [
    "Our new Flatten"
   ]
  },
  {
   "cell_type": "code",
   "execution_count": 83,
   "id": "723c7271",
   "metadata": {},
   "outputs": [],
   "source": [
    "class FlattenConsecutive:\n",
    "    def __init__(self, n):\n",
    "        self.n = n\n",
    "    def __call__(self, x):\n",
    "        B, T, C = x.shape\n",
    "        x = x.view(B, T//self.n, C*self.n)\n",
    "        if x.shape[1] == 1:\n",
    "            x = x.squeeze(1)\n",
    "        self.out = x   \n",
    "        return self.out\n",
    "    \n",
    "    def parameters(self):\n",
    "        return []"
   ]
  },
  {
   "cell_type": "code",
   "execution_count": 84,
   "id": "24da5d32",
   "metadata": {},
   "outputs": [
    {
     "name": "stdout",
     "output_type": "stream",
     "text": [
      "22097\n"
     ]
    }
   ],
   "source": [
    "n_embd = 10\n",
    "n_hidden = 200\n",
    "\n",
    "model = Sequential([\n",
    "    Embedding(vocab_size, n_embd),\n",
    "    FlattenConsecutive(block_size),\n",
    "    Linear(n_embd * block_size, n_hidden, bias=False), BatchNorm1d(n_hidden), Tanh(),\n",
    "    Linear(n_hidden, vocab_size),\n",
    "])\n",
    "\n",
    "with torch.no_grad():\n",
    "    # make softmax (last layer) less confident\n",
    "    layers[-1].weight *= 0.1\n",
    "\n",
    "\n",
    "parameters = model.parameters()\n",
    "print(sum(p.nelement() for p in parameters))\n",
    "for p in parameters:\n",
    "    p.requires_grad = True"
   ]
  },
  {
   "cell_type": "code",
   "execution_count": 85,
   "id": "06fd15e9",
   "metadata": {},
   "outputs": [
    {
     "name": "stdout",
     "output_type": "stream",
     "text": [
      "torch.Size([4, 8])\n"
     ]
    },
    {
     "data": {
      "text/plain": [
       "tensor([[ 0,  0,  0,  1,  9,  4, 18,  9],\n",
       "        [ 0,  0,  0, 13,  1,  7,  4,  1],\n",
       "        [ 0,  0,  0,  0,  0,  0, 19,  1],\n",
       "        [ 0,  0,  0, 14,  1, 20,  8,  1]])"
      ]
     },
     "execution_count": 85,
     "metadata": {},
     "output_type": "execute_result"
    }
   ],
   "source": [
    "ix = torch.randint(0, Xtr.shape[0], (4,)) # looking at a batch of 4 examples\n",
    "Xb, Yb, = Xtr[ix], Ytr[ix]\n",
    "logits = model(Xb)\n",
    "print(Xb.shape)\n",
    "Xb"
   ]
  },
  {
   "cell_type": "code",
   "execution_count": 86,
   "id": "9cda4a0b",
   "metadata": {},
   "outputs": [
    {
     "name": "stdout",
     "output_type": "stream",
     "text": [
      "Embedding : (4, 8, 10)\n",
      "FlattenConsecutive : (4, 80)\n",
      "Linear : (4, 200)\n",
      "BatchNorm1d : (4, 200)\n",
      "Tanh : (4, 200)\n",
      "Linear : (4, 27)\n"
     ]
    }
   ],
   "source": [
    "for layer in model.layers:\n",
    "    print(layer.__class__.__name__, ':', tuple(layer.out.shape))"
   ]
  },
  {
   "cell_type": "markdown",
   "id": "17d3bf73",
   "metadata": {},
   "source": [
    "We restructure with our new Flatten and do it hierarchically <br>\n",
    "We want to flatten by 2, and process it by Linear. The number of input into Linear will now be multiples of 2. "
   ]
  },
  {
   "cell_type": "code",
   "execution_count": 87,
   "id": "181db8cf",
   "metadata": {},
   "outputs": [
    {
     "name": "stdout",
     "output_type": "stream",
     "text": [
      "170897\n"
     ]
    }
   ],
   "source": [
    "n_embd = 10\n",
    "n_hidden = 200\n",
    "\n",
    "model = Sequential([\n",
    "    Embedding(vocab_size, n_embd),\n",
    "    FlattenConsecutive(2), Linear(n_embd * 2, n_hidden, bias=False), BatchNorm1d(n_hidden), Tanh(),\n",
    "    FlattenConsecutive(2), Linear(n_hidden * 2, n_hidden, bias=False), BatchNorm1d(n_hidden), Tanh(),\n",
    "    FlattenConsecutive(2), Linear(n_hidden * 2, n_hidden, bias=False), BatchNorm1d(n_hidden), Tanh(),\n",
    "    Linear(n_hidden, vocab_size),\n",
    "])\n",
    "\n",
    "with torch.no_grad():\n",
    "    # make softmax (last layer) less confident\n",
    "    layers[-1].weight *= 0.1\n",
    "\n",
    "\n",
    "parameters = model.parameters()\n",
    "print(sum(p.nelement() for p in parameters))\n",
    "for p in parameters:\n",
    "    p.requires_grad = True"
   ]
  },
  {
   "cell_type": "code",
   "execution_count": 88,
   "id": "7b136278",
   "metadata": {},
   "outputs": [
    {
     "name": "stdout",
     "output_type": "stream",
     "text": [
      "torch.Size([4, 8])\n"
     ]
    },
    {
     "data": {
      "text/plain": [
       "tensor([[ 0,  0,  5, 22,  1, 12, 21, 14],\n",
       "        [ 0,  0,  0,  0,  0,  0, 20, 18],\n",
       "        [ 0,  3, 25, 14,  3,  5, 18,  5],\n",
       "        [ 0,  0,  0,  0,  0,  0, 12, 15]])"
      ]
     },
     "execution_count": 88,
     "metadata": {},
     "output_type": "execute_result"
    }
   ],
   "source": [
    "ix = torch.randint(0, Xtr.shape[0], (4,)) # looking at a batch of 4 examples\n",
    "Xb, Yb, = Xtr[ix], Ytr[ix]\n",
    "logits = model(Xb)\n",
    "print(Xb.shape)\n",
    "Xb"
   ]
  },
  {
   "cell_type": "code",
   "execution_count": 89,
   "id": "7c91f416",
   "metadata": {},
   "outputs": [
    {
     "name": "stdout",
     "output_type": "stream",
     "text": [
      "Embedding : (4, 8, 10)\n",
      "FlattenConsecutive : (4, 4, 20)\n",
      "Linear : (4, 4, 200)\n",
      "BatchNorm1d : (4, 4, 200)\n",
      "Tanh : (4, 4, 200)\n",
      "FlattenConsecutive : (4, 2, 400)\n",
      "Linear : (4, 2, 200)\n",
      "BatchNorm1d : (4, 2, 200)\n",
      "Tanh : (4, 2, 200)\n",
      "FlattenConsecutive : (4, 400)\n",
      "Linear : (4, 200)\n",
      "BatchNorm1d : (4, 200)\n",
      "Tanh : (4, 200)\n",
      "Linear : (4, 27)\n"
     ]
    }
   ],
   "source": [
    "for layer in model.layers:\n",
    "    print(layer.__class__.__name__, ':', tuple(layer.out.shape))"
   ]
  },
  {
   "cell_type": "code",
   "execution_count": 90,
   "id": "0be63f5d",
   "metadata": {},
   "outputs": [
    {
     "data": {
      "text/plain": [
       "torch.Size([4, 27])"
      ]
     },
     "execution_count": 90,
     "metadata": {},
     "output_type": "execute_result"
    }
   ],
   "source": [
    "logits.shape"
   ]
  },
  {
   "cell_type": "markdown",
   "id": "c5f20f59",
   "metadata": {},
   "source": [
    "Our parameter size is quite higher than our baseline model, so we reduce n_hidden to get something similar"
   ]
  },
  {
   "cell_type": "code",
   "execution_count": 101,
   "id": "995f3531",
   "metadata": {},
   "outputs": [
    {
     "name": "stdout",
     "output_type": "stream",
     "text": [
      "22397\n"
     ]
    }
   ],
   "source": [
    "n_embd = 10\n",
    "n_hidden = 68\n",
    "\n",
    "model = Sequential([\n",
    "    Embedding(vocab_size, n_embd),\n",
    "    FlattenConsecutive(2), Linear(n_embd * 2, n_hidden, bias=False), BatchNorm1d(n_hidden), Tanh(),\n",
    "    FlattenConsecutive(2), Linear(n_hidden * 2, n_hidden, bias=False), BatchNorm1d(n_hidden), Tanh(),\n",
    "    FlattenConsecutive(2), Linear(n_hidden * 2, n_hidden, bias=False), BatchNorm1d(n_hidden), Tanh(),\n",
    "    Linear(n_hidden, vocab_size),\n",
    "])\n",
    "\n",
    "with torch.no_grad():\n",
    "    # make softmax (last layer) less confident\n",
    "    layers[-1].weight *= 0.1\n",
    "\n",
    "\n",
    "parameters = model.parameters()\n",
    "print(sum(p.nelement() for p in parameters))\n",
    "for p in parameters:\n",
    "    p.requires_grad = True"
   ]
  },
  {
   "cell_type": "code",
   "execution_count": 92,
   "id": "8e7e68e6",
   "metadata": {},
   "outputs": [
    {
     "name": "stdout",
     "output_type": "stream",
     "text": [
      "      0/ 200000: 3.3391\n",
      "  10000/ 200000: 2.2552\n",
      "  20000/ 200000: 2.0523\n",
      "  30000/ 200000: 2.0714\n",
      "  40000/ 200000: 1.9481\n",
      "  50000/ 200000: 2.0022\n",
      "  60000/ 200000: 2.0169\n",
      "  70000/ 200000: 1.8896\n",
      "  80000/ 200000: 2.6780\n",
      "  90000/ 200000: 1.9723\n",
      " 100000/ 200000: 2.0717\n",
      " 110000/ 200000: 1.7330\n",
      " 120000/ 200000: 1.8521\n",
      " 130000/ 200000: 1.6646\n",
      " 140000/ 200000: 1.4183\n",
      " 150000/ 200000: 1.9440\n",
      " 160000/ 200000: 2.3120\n",
      " 170000/ 200000: 1.8839\n",
      " 180000/ 200000: 1.9072\n",
      " 190000/ 200000: 2.0713\n"
     ]
    }
   ],
   "source": [
    "max_steps = 200000\n",
    "batch_size = 32\n",
    "lossi = []\n",
    "\n",
    "for i in range(max_steps):\n",
    "    # Construct the minibatch\n",
    "    ix = torch.randint(0, Xtr.shape[0], (batch_size,))\n",
    "    Xb, Yb = Xtr[ix], Ytr[ix]\n",
    "\n",
    "    # forward pass\n",
    "    logits = model(Xb)\n",
    "    loss = F.cross_entropy(logits, Yb)\n",
    "\n",
    "    # backward pass\n",
    "    for layer in layers:\n",
    "        layer.out.retain_grad() # for debugging. retains the graphs\n",
    "    for p in parameters:\n",
    "        p.grad = None\n",
    "    loss.backward()\n",
    "\n",
    "    # update\n",
    "    lr = 0.1 if i < 100000 else 0.01\n",
    "    for p in parameters:\n",
    "        p.data += -lr * p.grad\n",
    "\n",
    "    # track stats\n",
    "    if i % 10000 == 0:\n",
    "        print(f'{i:7d}/{max_steps:7d}: {loss.item():.4f}')\n",
    "    lossi.append(loss.log10().item())\n"
   ]
  },
  {
   "cell_type": "code",
   "execution_count": 93,
   "id": "92aad121",
   "metadata": {},
   "outputs": [
    {
     "data": {
      "text/plain": [
       "[<matplotlib.lines.Line2D at 0x14fc0ee90>]"
      ]
     },
     "execution_count": 93,
     "metadata": {},
     "output_type": "execute_result"
    },
    {
     "data": {
      "image/png": "[encoded data removed]",
      "text/plain": [
       "<Figure size 640x480 with 1 Axes>"
      ]
     },
     "metadata": {},
     "output_type": "display_data"
    }
   ],
   "source": [
    "plt.plot(torch.tensor(lossi).view(-1, 1000).mean(1))"
   ]
  },
  {
   "cell_type": "code",
   "execution_count": 94,
   "id": "8fdcb730",
   "metadata": {},
   "outputs": [],
   "source": [
    "for layer in model.layers:\n",
    "    layer.training = False"
   ]
  },
  {
   "cell_type": "code",
   "execution_count": 95,
   "id": "737f88e5",
   "metadata": {},
   "outputs": [
    {
     "name": "stdout",
     "output_type": "stream",
     "text": [
      "train 1.951467514038086\n",
      "val 2.032949686050415\n"
     ]
    }
   ],
   "source": [
    "# evalyate the loss\n",
    "@torch.no_grad() # disable gradient tracking automatically setting requires_grad to false\n",
    "def split_loss(split):\n",
    "    x,y = {\n",
    "        'train': (Xtr, Ytr), \n",
    "        'val': (Xdev, Ydev),\n",
    "        'test': (Xte, Yte),\n",
    "    }[split]\n",
    "    logits = model(x)\n",
    "    loss = F.cross_entropy(logits, y)\n",
    "    print(split, loss.item())\n",
    "split_loss('train')\n",
    "split_loss('val')"
   ]
  },
  {
   "cell_type": "markdown",
   "id": "1c1b25b3",
   "metadata": {},
   "source": [
    "Our results are not so far from the previous: <br>\n",
    "1. Our hyperparams for the new architecture are unexplored\n",
    "2. BatchNorm needs to be re-adjusted for the new design"
   ]
  },
  {
   "cell_type": "markdown",
   "id": "3d8238ec",
   "metadata": {},
   "source": [
    "# Debugging BatchNorm"
   ]
  },
  {
   "cell_type": "code",
   "execution_count": 97,
   "id": "13c01d3a",
   "metadata": {},
   "outputs": [
    {
     "name": "stdout",
     "output_type": "stream",
     "text": [
      "22397\n"
     ]
    }
   ],
   "source": [
    "n_embd = 10\n",
    "n_hidden = 68\n",
    "\n",
    "model = Sequential([\n",
    "    Embedding(vocab_size, n_embd),\n",
    "    FlattenConsecutive(2), Linear(n_embd * 2, n_hidden, bias=False), BatchNorm1d(n_hidden), Tanh(),\n",
    "    FlattenConsecutive(2), Linear(n_hidden * 2, n_hidden, bias=False), BatchNorm1d(n_hidden), Tanh(),\n",
    "    FlattenConsecutive(2), Linear(n_hidden * 2, n_hidden, bias=False), BatchNorm1d(n_hidden), Tanh(),\n",
    "    Linear(n_hidden, vocab_size),\n",
    "])\n",
    "\n",
    "with torch.no_grad():\n",
    "    # make softmax (last layer) less confident\n",
    "    layers[-1].weight *= 0.1\n",
    "\n",
    "\n",
    "parameters = model.parameters()\n",
    "print(sum(p.nelement() for p in parameters))\n",
    "for p in parameters:\n",
    "    p.requires_grad = True"
   ]
  },
  {
   "cell_type": "code",
   "execution_count": 103,
   "id": "2230c4e7",
   "metadata": {},
   "outputs": [
    {
     "name": "stdout",
     "output_type": "stream",
     "text": [
      "torch.Size([4, 8])\n"
     ]
    },
    {
     "data": {
      "text/plain": [
       "tensor([[ 0,  0,  0,  0,  0,  0,  0, 20],\n",
       "        [ 0,  0,  0,  0,  0,  0, 11,  5],\n",
       "        [ 0,  0,  0,  0,  0,  0, 13,  9],\n",
       "        [ 0,  0, 20,  9,  5, 18, 18,  1]])"
      ]
     },
     "execution_count": 103,
     "metadata": {},
     "output_type": "execute_result"
    }
   ],
   "source": [
    "ix = torch.randint(0, Xtr.shape[0], (4,)) # looking at a batch of 4 examples\n",
    "Xb, Yb, = Xtr[ix], Ytr[ix]\n",
    "logits = model(Xb)\n",
    "print(Xb.shape)\n",
    "Xb"
   ]
  },
  {
   "cell_type": "code",
   "execution_count": 104,
   "id": "be765e6d",
   "metadata": {},
   "outputs": [
    {
     "name": "stdout",
     "output_type": "stream",
     "text": [
      "Embedding : (4, 8, 10)\n",
      "FlattenConsecutive : (4, 4, 20)\n",
      "Linear : (4, 4, 68)\n",
      "BatchNorm1d : (4, 4, 68)\n",
      "Tanh : (4, 4, 68)\n",
      "FlattenConsecutive : (4, 2, 136)\n",
      "Linear : (4, 2, 68)\n",
      "BatchNorm1d : (4, 2, 68)\n",
      "Tanh : (4, 2, 68)\n",
      "FlattenConsecutive : (4, 136)\n",
      "Linear : (4, 68)\n",
      "BatchNorm1d : (4, 68)\n",
      "Tanh : (4, 68)\n",
      "Linear : (4, 27)\n"
     ]
    }
   ],
   "source": [
    "for layer in model.layers:\n",
    "    print(layer.__class__.__name__, ':', tuple(layer.out.shape))"
   ]
  },
  {
   "cell_type": "markdown",
   "id": "e5f1c202",
   "metadata": {},
   "source": [
    "Looking at our previous implementation"
   ]
  },
  {
   "cell_type": "code",
   "execution_count": null,
   "id": "ebe827a4",
   "metadata": {},
   "outputs": [],
   "source": [
    "class BatchNorm1d:  \n",
    "    def __init__(self, dim, eps=1e-5, momentum=0.1):\n",
    "        self.eps = eps # epsilon\n",
    "        self.momentum = momentum\n",
    "        self.training = True # behaviours of certain attributes vary for training and inference\n",
    "        # batchnorm trainable params\n",
    "        self.gamma = torch.ones(dim)\n",
    "        self.beta = torch.zeros(dim)\n",
    "        # buffers for running momentum update\n",
    "        self.running_mean = torch.zeros(dim)\n",
    "        self.running_var = torch.ones(dim)\n",
    "\n",
    "    def __call__(self, x):\n",
    "        # forward pass\n",
    "        if self.training:\n",
    "            xmean = x.mean(0, keepdim=True) # batch mean\n",
    "            xvar = x.var(0, keepdim=True) # batch variance\n",
    "        else: # in inference, we use the accummuldated mean and var of the whole training set\n",
    "            xmean = self.running_mean \n",
    "            xvar = self.running_var\n",
    "        xhat = (x - xmean) / torch.sqrt(xvar + self.eps) # normalize to unit variance\n",
    "        self.out = self.gamma * xhat + self.beta\n",
    "        # update buffers - only updated during training\n",
    "        if self.training:\n",
    "            with torch.no_grad():\n",
    "                self.running_mean = (1 - self.momentum) * self.running_mean + self.momentum * xmean\n",
    "                self.running_var = (1 -self.momentum) * self.running_var + self.momentum * xvar\n",
    "        return self.out\n",
    "        \n",
    "    def parameters(self):\n",
    "        return [self.gamma, self.beta] "
   ]
  },
  {
   "cell_type": "markdown",
   "id": "fe4f1866",
   "metadata": {},
   "source": [
    "The batchnorm receives an input (4,4,68) and assumes that x is 2 dim (which was the case in that implementation). This was properly broadcast, but it doesn't reflect the factual behaviour of batchnorm. <br> "
   ]
  },
  {
   "cell_type": "markdown",
   "id": "5faa4fff",
   "metadata": {},
   "source": [
    "Let's inspect this"
   ]
  },
  {
   "cell_type": "code",
   "execution_count": 105,
   "id": "5bafc239",
   "metadata": {},
   "outputs": [
    {
     "data": {
      "text/plain": [
       "torch.Size([32, 4, 68])"
      ]
     },
     "execution_count": 105,
     "metadata": {},
     "output_type": "execute_result"
    }
   ],
   "source": [
    "e = torch.randn(32, 4, 68)\n",
    "emean = e.mean(0, keepdim=True)\n",
    "evar = e.var(0, keepdim=True)\n",
    "ehat = (e - emean) / torch.sqrt(evar + 1e-5)\n",
    "ehat.shape"
   ]
  },
  {
   "cell_type": "markdown",
   "id": "5ba27098",
   "metadata": {},
   "source": [
    "The means are done over the first dimension (the 0 axis), giving us a mean and var that maintain the second and third dims ie emean and evar have shape (1,4,68) <br>\n",
    "ehat then becomes a broadcast operation on the shape of e"
   ]
  },
  {
   "cell_type": "markdown",
   "id": "59cf90fc",
   "metadata": {},
   "source": [
    "If we compare the running mean of the model's batchnorm"
   ]
  },
  {
   "cell_type": "code",
   "execution_count": 106,
   "id": "a99f2717",
   "metadata": {},
   "outputs": [
    {
     "data": {
      "text/plain": [
       "torch.Size([1, 4, 68])"
      ]
     },
     "execution_count": 106,
     "metadata": {},
     "output_type": "execute_result"
    }
   ],
   "source": [
    "model.layers[3].running_mean.shape"
   ]
  },
  {
   "cell_type": "markdown",
   "id": "0666c56b",
   "metadata": {},
   "source": [
    "On the implementation, self.running_mean = torch.zeros(dim) is supposed to be on 68 channels, but it is on 4*68 channels. <br>\n",
    "We want our batch norm to average over 32*4 numbers for every single 68 channels"
   ]
  },
  {
   "cell_type": "markdown",
   "id": "105c69a5",
   "metadata": {},
   "source": [
    "We can reduce over a tuple"
   ]
  },
  {
   "cell_type": "code",
   "execution_count": 107,
   "id": "762bae9a",
   "metadata": {},
   "outputs": [
    {
     "data": {
      "text/plain": [
       "torch.Size([32, 4, 68])"
      ]
     },
     "execution_count": 107,
     "metadata": {},
     "output_type": "execute_result"
    }
   ],
   "source": [
    "e = torch.randn(32, 4, 68)\n",
    "emean = e.mean((0,1), keepdim=True)\n",
    "evar = e.var((0,1), keepdim=True)\n",
    "ehat = (e - emean) / torch.sqrt(evar + 1e-5)\n",
    "ehat.shape"
   ]
  },
  {
   "cell_type": "markdown",
   "id": "259b80a2",
   "metadata": {},
   "source": [
    "Our modified batchnorm becomes"
   ]
  },
  {
   "cell_type": "code",
   "execution_count": 108,
   "id": "34a8f44d",
   "metadata": {},
   "outputs": [],
   "source": [
    "class BatchNorm1d:  \n",
    "    def __init__(self, dim, eps=1e-5, momentum=0.1):\n",
    "        self.eps = eps # epsilon\n",
    "        self.momentum = momentum\n",
    "        self.training = True # behaviours of certain attributes vary for training and inference\n",
    "        # batchnorm trainable params\n",
    "        self.gamma = torch.ones(dim)\n",
    "        self.beta = torch.zeros(dim)\n",
    "        # buffers for running momentum update\n",
    "        self.running_mean = torch.zeros(dim)\n",
    "        self.running_var = torch.ones(dim)\n",
    "\n",
    "    def __call__(self, x):\n",
    "        # forward pass\n",
    "        if self.training:\n",
    "            if x.ndim == 2:\n",
    "                dim = 0\n",
    "            elif x.ndim == 3:\n",
    "                dim = (0,1)\n",
    "            xmean = x.mean(dim, keepdim=True) # batch mean\n",
    "            xvar = x.var(dim, keepdim=True) # batch variance\n",
    "        else: # in inference, we use the accummuldated mean and var of the whole training set\n",
    "            xmean = self.running_mean \n",
    "            xvar = self.running_var\n",
    "        xhat = (x - xmean) / torch.sqrt(xvar + self.eps) # normalize to unit variance\n",
    "        self.out = self.gamma * xhat + self.beta\n",
    "        # update buffers - only updated during training\n",
    "        if self.training:\n",
    "            with torch.no_grad():\n",
    "                self.running_mean = (1 - self.momentum) * self.running_mean + self.momentum * xmean\n",
    "                self.running_var = (1 -self.momentum) * self.running_var + self.momentum * xvar\n",
    "        return self.out\n",
    "        \n",
    "    def parameters(self):\n",
    "        return [self.gamma, self.beta] "
   ]
  },
  {
   "cell_type": "markdown",
   "id": "dfcc1118",
   "metadata": {},
   "source": [
    "And we retrain our neural net"
   ]
  },
  {
   "cell_type": "code",
   "execution_count": 109,
   "id": "eb4d6021",
   "metadata": {},
   "outputs": [
    {
     "name": "stdout",
     "output_type": "stream",
     "text": [
      "22397\n"
     ]
    }
   ],
   "source": [
    "n_embd = 10\n",
    "n_hidden = 68\n",
    "\n",
    "model = Sequential([\n",
    "    Embedding(vocab_size, n_embd),\n",
    "    FlattenConsecutive(2), Linear(n_embd * 2, n_hidden, bias=False), BatchNorm1d(n_hidden), Tanh(),\n",
    "    FlattenConsecutive(2), Linear(n_hidden * 2, n_hidden, bias=False), BatchNorm1d(n_hidden), Tanh(),\n",
    "    FlattenConsecutive(2), Linear(n_hidden * 2, n_hidden, bias=False), BatchNorm1d(n_hidden), Tanh(),\n",
    "    Linear(n_hidden, vocab_size),\n",
    "])\n",
    "\n",
    "with torch.no_grad():\n",
    "    # make softmax (last layer) less confident\n",
    "    layers[-1].weight *= 0.1\n",
    "\n",
    "\n",
    "parameters = model.parameters()\n",
    "print(sum(p.nelement() for p in parameters))\n",
    "for p in parameters:\n",
    "    p.requires_grad = True"
   ]
  },
  {
   "cell_type": "code",
   "execution_count": 110,
   "id": "05b83bd2",
   "metadata": {},
   "outputs": [
    {
     "name": "stdout",
     "output_type": "stream",
     "text": [
      "      0/ 200000: 3.2498\n",
      "  10000/ 200000: 2.2207\n",
      "  20000/ 200000: 2.1400\n",
      "  30000/ 200000: 2.2454\n",
      "  40000/ 200000: 2.0046\n",
      "  50000/ 200000: 2.3608\n",
      "  60000/ 200000: 2.0525\n",
      "  70000/ 200000: 1.9387\n",
      "  80000/ 200000: 2.2600\n",
      "  90000/ 200000: 1.7542\n",
      " 100000/ 200000: 1.8051\n",
      " 110000/ 200000: 1.7223\n",
      " 120000/ 200000: 1.9126\n",
      " 130000/ 200000: 1.7229\n",
      " 140000/ 200000: 2.0629\n",
      " 150000/ 200000: 1.9279\n",
      " 160000/ 200000: 1.8189\n",
      " 170000/ 200000: 1.5680\n",
      " 180000/ 200000: 2.1662\n",
      " 190000/ 200000: 1.9556\n"
     ]
    }
   ],
   "source": [
    "max_steps = 200000\n",
    "batch_size = 32\n",
    "lossi = []\n",
    "\n",
    "for i in range(max_steps):\n",
    "    # Construct the minibatch\n",
    "    ix = torch.randint(0, Xtr.shape[0], (batch_size,))\n",
    "    Xb, Yb = Xtr[ix], Ytr[ix]\n",
    "\n",
    "    # forward pass\n",
    "    logits = model(Xb)\n",
    "    loss = F.cross_entropy(logits, Yb)\n",
    "\n",
    "    # backward pass\n",
    "    for layer in layers:\n",
    "        layer.out.retain_grad() # for debugging. retains the graphs\n",
    "    for p in parameters:\n",
    "        p.grad = None\n",
    "    loss.backward()\n",
    "\n",
    "    # update\n",
    "    lr = 0.1 if i < 100000 else 0.01\n",
    "    for p in parameters:\n",
    "        p.data += -lr * p.grad\n",
    "\n",
    "    # track stats\n",
    "    if i % 10000 == 0:\n",
    "        print(f'{i:7d}/{max_steps:7d}: {loss.item():.4f}')\n",
    "    lossi.append(loss.log10().item())\n"
   ]
  },
  {
   "cell_type": "code",
   "execution_count": 111,
   "id": "c8bf219a",
   "metadata": {},
   "outputs": [
    {
     "data": {
      "text/plain": [
       "[<matplotlib.lines.Line2D at 0x11e062990>]"
      ]
     },
     "execution_count": 111,
     "metadata": {},
     "output_type": "execute_result"
    },
    {
     "data": {
      "image/png": "[encoded data removed]",
      "text/plain": [
       "<Figure size 640x480 with 1 Axes>"
      ]
     },
     "metadata": {},
     "output_type": "display_data"
    }
   ],
   "source": [
    "plt.plot(torch.tensor(lossi).view(-1, 1000).mean(1))"
   ]
  },
  {
   "cell_type": "code",
   "execution_count": 112,
   "id": "f0d451ce",
   "metadata": {},
   "outputs": [
    {
     "name": "stdout",
     "output_type": "stream",
     "text": [
      "train 1.9253654479980469\n",
      "val 2.025333881378174\n"
     ]
    }
   ],
   "source": [
    "for layer in model.layers:\n",
    "    layer.training = False\n",
    "\n",
    "# evalyate the loss\n",
    "@torch.no_grad() # disable gradient tracking automatically setting requires_grad to false\n",
    "def split_loss(split):\n",
    "    x,y = {\n",
    "        'train': (Xtr, Ytr), \n",
    "        'val': (Xdev, Ydev),\n",
    "        'test': (Xte, Yte),\n",
    "    }[split]\n",
    "    logits = model(x)\n",
    "    loss = F.cross_entropy(logits, y)\n",
    "    print(split, loss.item())\n",
    "split_loss('train')\n",
    "split_loss('val')"
   ]
  },
  {
   "cell_type": "markdown",
   "id": "5ab1f85b",
   "metadata": {},
   "source": [
    "# Improving WaveNet"
   ]
  },
  {
   "cell_type": "markdown",
   "id": "081eec4d",
   "metadata": {},
   "source": [
    "We increase the size of the embedding and hidden layers"
   ]
  },
  {
   "cell_type": "code",
   "execution_count": 113,
   "id": "6c59bba8",
   "metadata": {},
   "outputs": [
    {
     "name": "stdout",
     "output_type": "stream",
     "text": [
      "76579\n"
     ]
    }
   ],
   "source": [
    "n_embd = 24\n",
    "n_hidden = 128\n",
    "\n",
    "model = Sequential([\n",
    "    Embedding(vocab_size, n_embd),\n",
    "    FlattenConsecutive(2), Linear(n_embd * 2, n_hidden, bias=False), BatchNorm1d(n_hidden), Tanh(),\n",
    "    FlattenConsecutive(2), Linear(n_hidden * 2, n_hidden, bias=False), BatchNorm1d(n_hidden), Tanh(),\n",
    "    FlattenConsecutive(2), Linear(n_hidden * 2, n_hidden, bias=False), BatchNorm1d(n_hidden), Tanh(),\n",
    "    Linear(n_hidden, vocab_size),\n",
    "])\n",
    "\n",
    "with torch.no_grad():\n",
    "    # make softmax (last layer) less confident\n",
    "    layers[-1].weight *= 0.1\n",
    "\n",
    "\n",
    "parameters = model.parameters()\n",
    "print(sum(p.nelement() for p in parameters))\n",
    "for p in parameters:\n",
    "    p.requires_grad = True"
   ]
  },
  {
   "cell_type": "code",
   "execution_count": 114,
   "id": "d5fee7e8",
   "metadata": {},
   "outputs": [
    {
     "name": "stdout",
     "output_type": "stream",
     "text": [
      "      0/ 200000: 3.3523\n",
      "  10000/ 200000: 1.8479\n",
      "  20000/ 200000: 2.1235\n",
      "  30000/ 200000: 1.6730\n",
      "  40000/ 200000: 1.8855\n",
      "  50000/ 200000: 1.8947\n",
      "  60000/ 200000: 1.4509\n",
      "  70000/ 200000: 1.8790\n",
      "  80000/ 200000: 1.5284\n",
      "  90000/ 200000: 2.0600\n",
      " 100000/ 200000: 1.8260\n",
      " 110000/ 200000: 1.5428\n",
      " 120000/ 200000: 1.7263\n",
      " 130000/ 200000: 2.0242\n",
      " 140000/ 200000: 1.4802\n",
      " 150000/ 200000: 1.8521\n",
      " 160000/ 200000: 1.5505\n",
      " 170000/ 200000: 1.8442\n",
      " 180000/ 200000: 2.0257\n",
      " 190000/ 200000: 1.9244\n"
     ]
    }
   ],
   "source": [
    "max_steps = 200000\n",
    "batch_size = 32\n",
    "lossi = []\n",
    "\n",
    "for i in range(max_steps):\n",
    "    # Construct the minibatch\n",
    "    ix = torch.randint(0, Xtr.shape[0], (batch_size,))\n",
    "    Xb, Yb = Xtr[ix], Ytr[ix]\n",
    "\n",
    "    # forward pass\n",
    "    logits = model(Xb)\n",
    "    loss = F.cross_entropy(logits, Yb)\n",
    "\n",
    "    # backward pass\n",
    "    for layer in layers:\n",
    "        layer.out.retain_grad() # for debugging. retains the graphs\n",
    "    for p in parameters:\n",
    "        p.grad = None\n",
    "    loss.backward()\n",
    "\n",
    "    # update\n",
    "    lr = 0.1 if i < 100000 else 0.01\n",
    "    for p in parameters:\n",
    "        p.data += -lr * p.grad\n",
    "\n",
    "    # track stats\n",
    "    if i % 10000 == 0:\n",
    "        print(f'{i:7d}/{max_steps:7d}: {loss.item():.4f}')\n",
    "    lossi.append(loss.log10().item())\n"
   ]
  },
  {
   "cell_type": "code",
   "execution_count": 115,
   "id": "f9228ab3",
   "metadata": {},
   "outputs": [
    {
     "name": "stdout",
     "output_type": "stream",
     "text": [
      "train 1.7875323295593262\n",
      "val 1.9884787797927856\n"
     ]
    }
   ],
   "source": [
    "for layer in model.layers:\n",
    "    layer.training = False\n",
    "\n",
    "# evalyate the loss\n",
    "@torch.no_grad() # disable gradient tracking automatically setting requires_grad to false\n",
    "def split_loss(split):\n",
    "    x,y = {\n",
    "        'train': (Xtr, Ytr), \n",
    "        'val': (Xdev, Ydev),\n",
    "        'test': (Xte, Yte),\n",
    "    }[split]\n",
    "    logits = model(x)\n",
    "    loss = F.cross_entropy(logits, y)\n",
    "    print(split, loss.item())\n",
    "split_loss('train')\n",
    "split_loss('val')"
   ]
  },
  {
   "cell_type": "markdown",
   "id": "8c4f80b5",
   "metadata": {},
   "source": [
    "With a larger architecture, we don't have an experimental harness that we can use to determine optimal hyperparams. We are sort of walking blindly and hoping for better performance. <br>"
   ]
  },
  {
   "cell_type": "markdown",
   "id": "0d636330",
   "metadata": {},
   "source": [
    "# A Brief Intro to Conv Layers"
   ]
  },
  {
   "cell_type": "markdown",
   "id": "9427393f",
   "metadata": {},
   "source": [
    "If we look at the design of the WaveNet, the arrow shows one possible operation to reduce into a single node of the final layer. <br>\n",
    "Convolution allows sliding through the input sequence and calculating all the final nodes at the same time. <br>\n",
    "The sliding is done in a theoretical 'for loop', but it is handle at the GPU level making it very efficient. "
   ]
  }
 ],
 "metadata": {
  "kernelspec": {
   "display_name": "torch",
   "language": "python",
   "name": "python3"
  },
  "language_info": {
   "codemirror_mode": {
    "name": "ipython",
    "version": 3
   },
   "file_extension": ".py",
   "mimetype": "text/x-python",
   "name": "python",
   "nbconvert_exporter": "python",
   "pygments_lexer": "ipython3",
   "version": "3.13.2"
  }
 },
 "nbformat": 4,
 "nbformat_minor": 5
}
